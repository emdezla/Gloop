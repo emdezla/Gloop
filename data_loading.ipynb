{
 "cells": [
  {
   "cell_type": "code",
   "execution_count": 4,
   "metadata": {},
   "outputs": [],
   "source": [
    "import numpy as np\n",
    "import pandas as pd\n",
    "import torch\n",
    "from torch.utils.data import Dataset\n",
    "\n"
   ]
  },
  {
   "cell_type": "code",
   "execution_count": 5,
   "metadata": {},
   "outputs": [],
   "source": [
    "\n",
    "class DiabetesDataset(Dataset):\n",
    "    def __init__(self, csv_file):\n",
    "        # Load CSV data\n",
    "        self.df = pd.read_csv(csv_file)\n",
    "        \n",
    "        # Extract state features: 8 dimensions\n",
    "        # [glu, glu_d, glu_t, hr, hr_d, hr_t, iob, hour_norm]\n",
    "        self.states = self.df[[\n",
    "            \"glu\", \"glu_d\", \"glu_t\",\n",
    "            \"hr\", \"hr_d\", \"hr_t\",\n",
    "            \"iob\", \"hour\"\n",
    "        ]].values.astype(np.float32)\n",
    "        \n",
    "        # Extract action features: 2 dimensions [basal, bol]\n",
    "        self.actions = self.df[[\"basal\", \"bolus\"]].values.astype(np.float32)\n",
    "        \n",
    "        # Extract done flags (1 at episode boundaries, 0 otherwise)\n",
    "        self.dones = self.df[\"done\"].values.astype(np.float32)\n",
    "        \n",
    "        # Define rewards (example: negative absolute deviation from target)\n",
    "        target_glucose = 0.0  # For normalized glucose, target might be 0 after scaling\n",
    "        self.rewards = -np.abs(self.states[:, 0] - target_glucose)\n",
    "        \n",
    "        # Compute next_states using a vectorized roll\n",
    "        self.next_states = np.roll(self.states, shift=-1, axis=0)\n",
    "        \n",
    "        # For transitions where the current step is an episode end,\n",
    "        # set the next state to be the current state so that transitions do not cross episodes.\n",
    "        self.next_states[self.dones == 1] = self.states[self.dones == 1]\n",
    "        \n",
    "        # Remove the final row since it doesn't have a valid next state\n",
    "        self.states = self.states[:-1]\n",
    "        self.actions = self.actions[:-1]\n",
    "        self.rewards = self.rewards[:-1]\n",
    "        self.next_states = self.next_states[:-1]\n",
    "        self.dones = self.dones[:-1]\n",
    "\n",
    "    def __len__(self):\n",
    "        return len(self.states)\n",
    "\n",
    "    def __getitem__(self, idx):\n",
    "        # Return a dictionary for the transition (s, a, r, s', done)\n",
    "        return {\n",
    "            \"state\":      torch.tensor(self.states[idx],      dtype=torch.float32),\n",
    "            \"action\":     torch.tensor(self.actions[idx],     dtype=torch.float32),\n",
    "            \"reward\":     torch.tensor(self.rewards[idx],     dtype=torch.float32),\n",
    "            \"next_state\": torch.tensor(self.next_states[idx], dtype=torch.float32),\n",
    "            \"done\":       torch.tensor(self.dones[idx],       dtype=torch.float32)\n",
    "        }\n"
   ]
  },
  {
   "cell_type": "code",
   "execution_count": 6,
   "metadata": {},
   "outputs": [
    {
     "name": "stdout",
     "output_type": "stream",
     "text": [
      "State: tensor([ 1.5537,     nan,     nan, -0.0855,     nan,     nan, -1.2715,  0.0000])\n",
      "Action: tensor([ 3.1836, -0.1611])\n",
      "Reward: tensor(-1.5537)\n",
      "Next State: tensor([ 1.5320, -0.1646,     nan, -1.0180, -1.3954,     nan, -1.2561,  0.0000])\n",
      "Done: tensor(0.)\n"
     ]
    }
   ],
   "source": [
    "\n",
    "# ===================\n",
    "# USAGE EXAMPLE\n",
    "# ===================\n",
    "if __name__ == \"__main__\":\n",
    "    dataset = DiabetesDataset(csv_file=\"datasets/processed/563-test.csv\")\n",
    "    \n",
    "    # Peek at the first sample\n",
    "    sample = dataset[0]\n",
    "    print(\"State:\", sample[\"state\"])\n",
    "    print(\"Action:\", sample[\"action\"])\n",
    "    print(\"Reward:\", sample[\"reward\"])\n",
    "    print(\"Next State:\", sample[\"next_state\"])\n",
    "    print(\"Done:\", sample[\"done\"])\n"
   ]
  },
  {
   "cell_type": "code",
   "execution_count": null,
   "metadata": {},
   "outputs": [],
   "source": []
  }
 ],
 "metadata": {
  "kernelspec": {
   "display_name": "Python 3",
   "language": "python",
   "name": "python3"
  },
  "language_info": {
   "codemirror_mode": {
    "name": "ipython",
    "version": 3
   },
   "file_extension": ".py",
   "mimetype": "text/x-python",
   "name": "python",
   "nbconvert_exporter": "python",
   "pygments_lexer": "ipython3",
   "version": "3.13.2"
  }
 },
 "nbformat": 4,
 "nbformat_minor": 2
}
