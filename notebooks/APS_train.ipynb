{
 "cells": [
  {
   "cell_type": "code",
   "execution_count": 3,
   "metadata": {},
   "outputs": [],
   "source": [
    "import torch\n",
    "import torch.nn as nn\n",
    "import torch.optim as optim\n",
    "from torch.distributions import Normal\n",
    "\n"
   ]
  },
  {
   "cell_type": "code",
   "execution_count": 4,
   "metadata": {},
   "outputs": [],
   "source": [
    "\n",
    "device = torch.device(\"cuda\" if torch.cuda.is_available() else \"cpu\")\n",
    "\n",
    "class PolicyNetwork(nn.Module):\n",
    "    def __init__(self, state_dim=5, action_dim=1):\n",
    "        super().__init__()\n",
    "        self.net = nn.Sequential(\n",
    "            nn.Linear(state_dim, 64),\n",
    "            nn.ReLU(),\n",
    "            nn.Linear(64, 64),\n",
    "            nn.ReLU(),\n",
    "            nn.Linear(64, action_dim)  # Output insulin dose (continuous)\n",
    "        )\n",
    "    \n",
    "    def forward(self, state):\n",
    "        return self.net(state)"
   ]
  },
  {
   "cell_type": "code",
   "execution_count": 5,
   "metadata": {},
   "outputs": [],
   "source": [
    "class PPOPolicy(nn.Module):\n",
    "    def __init__(self, state_dim=5, action_dim=1):\n",
    "        super().__init__()\n",
    "        self.shared = nn.Sequential(\n",
    "            nn.Linear(state_dim, 64),\n",
    "            nn.ReLU(),\n",
    "            nn.Linear(64, 64),\n",
    "            nn.ReLU()\n",
    "        )\n",
    "        self.actor_mean = nn.Linear(64, action_dim)\n",
    "        self.actor_std = nn.Parameter(torch.zeros(1, action_dim))  # Learnable std\n",
    "    \n",
    "    def forward(self, state):\n",
    "        x = self.shared(state)\n",
    "        mean = self.actor_mean(x)\n",
    "        std = torch.exp(self.actor_std)\n",
    "        return mean, std"
   ]
  },
  {
   "cell_type": "code",
   "execution_count": 6,
   "metadata": {},
   "outputs": [],
   "source": [
    "def reward(glucose):\n",
    "    target_min, target_max = 70, 180\n",
    "    if glucose < 70:\n",
    "        return -10 * (70 - glucose)  # Hypoglycemia penalty\n",
    "    elif glucose > 180:\n",
    "        return - (glucose - 180)     # Hyperglycemia penalty\n",
    "    else:\n",
    "        return 1.0                   # Reward for in-range"
   ]
  },
  {
   "cell_type": "code",
   "execution_count": 7,
   "metadata": {},
   "outputs": [
    {
     "ename": "NameError",
     "evalue": "name 'env' is not defined",
     "output_type": "error",
     "traceback": [
      "\u001b[31m---------------------------------------------------------------------------\u001b[39m",
      "\u001b[31mNameError\u001b[39m                                 Traceback (most recent call last)",
      "\u001b[36mCell\u001b[39m\u001b[36m \u001b[39m\u001b[32mIn[7]\u001b[39m\u001b[32m, line 7\u001b[39m\n\u001b[32m      5\u001b[39m \u001b[38;5;66;03m# Training loop\u001b[39;00m\n\u001b[32m      6\u001b[39m \u001b[38;5;28;01mfor\u001b[39;00m episode \u001b[38;5;129;01min\u001b[39;00m \u001b[38;5;28mrange\u001b[39m(\u001b[32m1000\u001b[39m):\n\u001b[32m----> \u001b[39m\u001b[32m7\u001b[39m     state = \u001b[43menv\u001b[49m.reset()\n\u001b[32m      8\u001b[39m     states, actions, rewards, log_probs = [], [], [], []\n\u001b[32m     10\u001b[39m     \u001b[38;5;28;01mwhile\u001b[39;00m \u001b[38;5;28;01mTrue\u001b[39;00m:\n",
      "\u001b[31mNameError\u001b[39m: name 'env' is not defined"
     ]
    }
   ],
   "source": [
    "\n",
    "# Initialize policy and optimizer\n",
    "policy = PPOPolicy(state_dim=5, action_dim=1).to(device)\n",
    "optimizer = optim.Adam(policy.parameters(), lr=3e-4)\n",
    "\n",
    "# Training loop\n",
    "for episode in range(1000):\n",
    "    state = env.reset()\n",
    "    states, actions, rewards, log_probs = [], [], [], []\n",
    "    \n",
    "    while True:\n",
    "        state_tensor = torch.FloatTensor(state).to(device)\n",
    "        mean, std = policy(state_tensor)\n",
    "        dist = Normal(mean, std)\n",
    "        action = dist.sample()\n",
    "        log_prob = dist.log_prob(action)\n",
    "        \n",
    "        next_state, reward, done, _ = env.step(action.cpu().numpy())\n",
    "        \n",
    "        states.append(state)\n",
    "        actions.append(action)\n",
    "        rewards.append(reward)\n",
    "        log_probs.append(log_prob)\n",
    "        state = next_state\n",
    "        \n",
    "        if done:\n",
    "            break\n",
    "    \n",
    "    # PPO update (simplified)\n",
    "    states = torch.FloatTensor(np.array(states)).to(device)\n",
    "    returns = compute_returns(rewards, gamma=0.99)\n",
    "    advantages = returns - policy.critic(states)\n",
    "    \n",
    "    # Clipped surrogate loss\n",
    "    ratios = torch.exp(log_probs - old_log_probs)\n",
    "    surr1 = ratios * advantages\n",
    "    surr2 = torch.clamp(ratios, 0.8, 1.2) * advantages\n",
    "    loss = -torch.min(surr1, surr2).mean()\n",
    "    \n",
    "    optimizer.zero_grad()\n",
    "    loss.backward()\n",
    "    optimizer.step()"
   ]
  },
  {
   "cell_type": "code",
   "execution_count": null,
   "metadata": {},
   "outputs": [],
   "source": []
  }
 ],
 "metadata": {
  "kernelspec": {
   "display_name": "Python 3",
   "language": "python",
   "name": "python3"
  },
  "language_info": {
   "codemirror_mode": {
    "name": "ipython",
    "version": 3
   },
   "file_extension": ".py",
   "mimetype": "text/x-python",
   "name": "python",
   "nbconvert_exporter": "python",
   "pygments_lexer": "ipython3",
   "version": "3.13.2"
  }
 },
 "nbformat": 4,
 "nbformat_minor": 2
}
